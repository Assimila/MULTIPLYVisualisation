{
 "cells": [
  {
   "cell_type": "code",
   "execution_count": 1,
   "metadata": {},
   "outputs": [],
   "source": [
    "import numpy as np\n",
    "import gdal\n",
    "import xarray as xr\n",
    "import matplotlib.pyplot as plt\n",
    "import plotly\n",
    "import plotly.plotly as py\n",
    "import plotly.offline as py_off\n",
    "from plotly.graph_objs import *\n",
    "import glob\n",
    "import os"
   ]
  },
  {
   "cell_type": "code",
   "execution_count": 2,
   "metadata": {},
   "outputs": [],
   "source": [
    "plotly.tools.set_credentials_file(username='alex.cornelius', api_key='Jwz6EJAgndMMc4AGO2a7')\n",
    "\n",
    "access_token = 'pk.eyJ1IjoiYWxleGNvcm5lbGl1cyIsImEiOiJjandhcXZ2ZnMwYnB0NDlzNnJyYXF2NGh5In0.dOemdsmJJfkte6eeoBrQbQ'"
   ]
  },
  {
   "cell_type": "code",
   "execution_count": 3,
   "metadata": {},
   "outputs": [],
   "source": [
    "# name of the game is to have a list of data, where each item in the data is an object\n",
    "# which is unique to plotly. Then the slider essentially updates which item in data to \n",
    "# display. Layout need also a pointer towards sliders=sliders."
   ]
  },
  {
   "cell_type": "code",
   "execution_count": 4,
   "metadata": {},
   "outputs": [
    {
     "data": {
      "text/html": [
       "<iframe id=\"igraph\" scrolling=\"no\" style=\"border:none;\" seamless=\"seamless\" src=\"https://plot.ly/~alex.cornelius/9.embed\" height=\"525px\" width=\"100%\"></iframe>"
      ],
      "text/plain": [
       "<chart_studio.tools.PlotlyDisplay object>"
      ]
     },
     "execution_count": 4,
     "metadata": {},
     "output_type": "execute_result"
    }
   ],
   "source": [
    "lai_files = sorted(glob.glob('data/lai*'))\n",
    "\n",
    "lai_files = [i for i in lai_files if 'unc' not in i]\n",
    "\n",
    "data = []\n",
    "\n",
    "for n,fname in enumerate(lai_files):\n",
    "    \n",
    "    # a weird thing was happening where each vrt was the same when the \n",
    "    # same name was used, so changing the name for each scene seems to work.\n",
    "    tmp_name = 'tmp_%s.vrt'%n\n",
    "\n",
    "    # convert to lat/lon\n",
    "    gdal.Warp(\n",
    "        srcDSOrSrcDSTab=fname,\n",
    "        destNameOrDestDS=tmp_name,\n",
    "        format='VRT',\n",
    "        dstSRS = 'EPSG:4326')\n",
    "\n",
    "    # open the data set\n",
    "    ds = xr.open_rasterio(tmp_name)\n",
    "    \n",
    "    \n",
    "    # take  subset around some interesting bits for speed\n",
    "    ds = ds.isel(x=range(50,100),y=range(125,175))\n",
    "\n",
    "    # convert it to a 2 dimensional dataframe\n",
    "    df = ds.to_dataframe('lai')\n",
    "    \n",
    "    # pull out the usefull bits from the nested index\n",
    "    # this is so the data knows where to put itself\n",
    "    df['latitude'] = df.index.get_level_values('y')\n",
    "    df['longitude'] = df.index.get_level_values('x')\n",
    "    \n",
    "    \n",
    "    # add each scenes data to the repository\n",
    "    data.append(\n",
    "    Scattermapbox(\n",
    "        lon=df['longitude'].values,   # lon goes here\n",
    "        lat=df['latitude'].values,    # lat goes here\n",
    "        mode='markers',\n",
    "        marker=scattermapbox.Marker(\n",
    "            size=18,\n",
    "            color=df['lai'].values))) \n",
    "    \n",
    "    os.remove(tmp_name)\n",
    "    \n",
    "# define the different scenes\n",
    "steps = []\n",
    "for i in range(len(data)):\n",
    "    step = dict(\n",
    "        # tell it to restyle and NOT to show past scenes with False in args\n",
    "        method = 'restyle',  \n",
    "        args = ['visible', [False] * len(data)], #set which restyles you can see\n",
    "    )\n",
    "    step['args'][1][i] = True # Toggle i'th trace to \"visible\"\n",
    "    steps.append(step)\n",
    "\n",
    "sliders = [dict(\n",
    "    currentvalue = {\"prefix\": \"Aquisition: \"},\n",
    "    pad = {\"t\": 50},\n",
    "    steps = steps\n",
    ")]  \n",
    "\n",
    "layout = Layout(\n",
    "    margin=dict(t=0,b=0,r=0,l=0),\n",
    "    autosize=True,\n",
    "    hovermode='closest',\n",
    "    showlegend=False,\n",
    "    sliders=sliders,\n",
    "    mapbox=dict(\n",
    "        accesstoken=access_token,\n",
    "        bearing=0,\n",
    "        center=dict(\n",
    "            lat=np.mean(df['latitude'].values),   # where to center the map in initsiatlization\n",
    "            lon=np.mean(df['longitude'].values)\n",
    "        ),\n",
    "        pitch=0,zoom=15,\n",
    "        style='light'\n",
    "    ),\n",
    ")\n",
    "\n",
    "fig = dict(data=data, layout=layout)\n",
    "\n",
    "py.iplot(fig, filename='Timer series')"
   ]
  },
  {
   "cell_type": "code",
   "execution_count": null,
   "metadata": {},
   "outputs": [],
   "source": []
  }
 ],
 "metadata": {
  "kernelspec": {
   "display_name": "Python 2",
   "language": "python",
   "name": "python2"
  },
  "language_info": {
   "codemirror_mode": {
    "name": "ipython",
    "version": 2
   },
   "file_extension": ".py",
   "mimetype": "text/x-python",
   "name": "python",
   "nbconvert_exporter": "python",
   "pygments_lexer": "ipython2",
   "version": "2.7.16"
  }
 },
 "nbformat": 4,
 "nbformat_minor": 2
}
